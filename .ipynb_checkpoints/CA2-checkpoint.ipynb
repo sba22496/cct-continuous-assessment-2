{
 "cells": [
  {
   "cell_type": "markdown",
   "id": "21bc4932",
   "metadata": {},
   "source": [
    "## Analysis of Irish Dairy Product Production and Consumption in comparison to EU Member States, regarding the rise of non-dairy product Production and Consumption in particular"
   ]
  },
  {
   "cell_type": "markdown",
   "id": "61d8a52e",
   "metadata": {},
   "source": [
    "This analysis aims to analyse the production and consumption of dairy products within Ireland and the impact of increasingly popular alternatives on the population's impression of dairy products. This analysis will be performed through the comparison of Ireland's situation with an EU member state with a similarly sized dairy market and output. "
   ]
  },
  {
   "cell_type": "markdown",
   "id": "bfd97128",
   "metadata": {},
   "source": [
    "Sentiment analysis will be performed to explore the apparent increase in public interest in non-dairy alternatives in recent years, and its impact on dairy product sales and consumption."
   ]
  },
  {
   "cell_type": "markdown",
   "id": "ac392e15",
   "metadata": {},
   "source": [
    "Additionally, forecasting will be performed to best characterise the future behaviour of the investigated trends, such as the downturn in the consumption of dairy milk."
   ]
  },
  {
   "cell_type": "markdown",
   "id": "1958d3df",
   "metadata": {},
   "source": [
    "## Import Required Libraries"
   ]
  },
  {
   "cell_type": "code",
   "execution_count": 1,
   "id": "e977d73f",
   "metadata": {},
   "outputs": [],
   "source": [
    "#Commonly used libraries for plotting, statistical analysis and data analysis.\n",
    "import pandas as pd\n",
    "import numpy as np\n",
    "import matplotlib.pyplot as plt\n",
    "from datetime import datetime\n",
    "\n",
    "import warnings\n",
    "warnings.filterwarnings('ignore')\n",
    "\n",
    "import seaborn as sns\n",
    "from pandas import DatetimeIndex\n",
    "from scipy.stats import poisson\n",
    "\n",
    "#SKLearn is a widely used machine learning library that offers a host of abilities.\n",
    "from sklearn.model_selection import train_test_split\n",
    "from sklearn.metrics import r2_score, mean_squared_error, mean_absolute_error,explained_variance_score\n",
    "from sklearn.linear_model import LinearRegression,Ridge\n",
    "from statsmodels.tools.eval_measures import mse, rmse\n",
    "from sklearn import preprocessing\n",
    "from sklearn.preprocessing import StandardScaler\n",
    "from sklearn.metrics import confusion_matrix\n",
    "from sklearn.model_selection import (GridSearchCV, cross_val_score)\n",
    "from sklearn.neighbors import KNeighborsClassifier\n",
    "from sklearn.metrics import classification_report"
   ]
  },
  {
   "cell_type": "markdown",
   "id": "2b42f38a",
   "metadata": {},
   "source": [
    "## Notes on Licensing of Data"
   ]
  },
  {
   "cell_type": "markdown",
   "id": "40028bce",
   "metadata": {},
   "source": [
    "## Data Sourced from FAO"
   ]
  },
  {
   "cell_type": "markdown",
   "id": "910beddc",
   "metadata": {},
   "source": [
    "\"FAO encourages you to use FAO databases for research, statistical, and scientific purposes. You may access, download, create copies and re-disseminate datasets subject to these Dataset terms.\n",
    "\n",
    "Unless specifically stated otherwise, all datasets disseminated through the databases below are licensed under the Creative Commons Attribution-NonCommercial-ShareAlike 3.0 IGO (CC BY-NC-SA 3.0 IGO) explained here with the additional terms listed below\"-https://www.fao.org/contact-us/terms/db-terms-of-use/en/+"
   ]
  },
  {
   "cell_type": "markdown",
   "id": "d742441f",
   "metadata": {},
   "source": [
    "## Notes on Metadata\n",
    "\n",
    "## Main Sources of Error\n",
    "Overall Accuracy\n",
    "\n",
    "\"It is not possible to assess the overall accuracy but as there is a substantial amount of estimated or imputed data points, the accuracy for certain products, countries and regions is not good\" - https://www.fao.org/faostat/en/#data/FBSH\n",
    "\n",
    "Sampling Error\n",
    "\n",
    "\"No information available. In the EU the coefficient of variation shall according to regulations not exceed 3% for the area of cultivation for main crops. For non EU countries the coefficient of variation might be significantly larger. For further information see country metadata when available.\"\n",
    "\n",
    "Non-sampling error\n",
    "\n",
    "\"No information available of the magnitude on non-sampling errors. One such category of errors is measurement errors which are due mainly to lack of harmonisation in statistical methods. For instance, when FAO concepts do not fit with national concepts, there may be significant measurement errors.\"\n"
   ]
  },
  {
   "cell_type": "markdown",
   "id": "b315e47d",
   "metadata": {},
   "source": [
    "## Preliminary inspection of available datasets"
   ]
  },
  {
   "cell_type": "markdown",
   "id": "5556d1d9",
   "metadata": {},
   "source": [
    "Relevant datasets available from reputable sources are initially explored and evaluated to determine suitable data for this analysis. Given the nature of the topic, there is limited geographical comparability due to differences in methods and coverage, except for regions with homogenous countries. Due to this convention, analysis and comparison of industries of EU member states is simpler and one is less likely to mis-interpret available data and reportings by a state."
   ]
  },
  {
   "cell_type": "markdown",
   "id": "d3412cfc",
   "metadata": {},
   "source": [
    "## Notes on FAO Data"
   ]
  },
  {
   "cell_type": "markdown",
   "id": "85f58a4e",
   "metadata": {},
   "source": [
    "## Definition of Statistical Measures used in Datasets"
   ]
  },
  {
   "cell_type": "markdown",
   "id": "b85fb0b6",
   "metadata": {},
   "source": [
    "\"Areas refer to the area under cultivation. Area under cultivation means the area that corresponds to the total sown area, but after the harvest it excludes ruined areas (e.g. due to natural disasters). If the same land parcel is used twice in the same year, the area of this parcel can be counted twice. Production means the harvested production. Harvested production means production including on-holding losses and wastage, quantities consumed directly on the farm and marketed quantities, indicated in units of basic product weight. Yield means the harvested production per ha for the area under cultivation\"- https://www.fao.org/faostat/en/#data/QCL"
   ]
  },
  {
   "cell_type": "markdown",
   "id": "4fc20c88",
   "metadata": {},
   "source": [
    "Unit of measure <br>\n",
    "\n",
    "\"LIVESTOCK PRIMARY: Laying [1000 heads], milk animals [heads], prod Population [No], prod Population [heads], producing Animals/Slaughtered [1000 heads], producing Animals/Slaughtered [heads], production [1000 heads], production [1000], production [heads], production [t], yield [100 mg/head], yield [No/head], yield [hg/head], yield/Carcass Weight [0.1 g/head], yield/Carcass Weight [hg/head]. 5) LIVESTOCK PROCESSED: Production is expressed in tonnes [t] \"-https://www.fao.org/faostat/en/#data/QCL"
   ]
  },
  {
   "cell_type": "markdown",
   "id": "188f05ba",
   "metadata": {},
   "source": [
    "Production quantity to be the metric of interest as a reflection of the demand?? All items explicitly identified as being produced from dairy milk were captured in the dataset. All those without explicit identification could not be verified and so were omitted to avoid the use of incorrect data."
   ]
  },
  {
   "cell_type": "markdown",
   "id": "ba7a2e3a",
   "metadata": {},
   "source": [
    "A dataset containing all items relating to milk of any animal source is inspected. An inspection is performed to identify all items relating to cows milk given that it is the predominant dairy product in Ireland."
   ]
  },
  {
   "cell_type": "code",
   "execution_count": 2,
   "id": "e40a82ae",
   "metadata": {
    "scrolled": true
   },
   "outputs": [
    {
     "name": "stdout",
     "output_type": "stream",
     "text": [
      "(516, 14)\n"
     ]
    }
   ],
   "source": [
    "#Inspect a dataset sourced from the Food and Agriculature Organisation of the United Nations\n",
    "#This dataset details the production of dairy products within Ireland between 1961 and 2018.\n",
    "df=pd.read_csv(\"/Users/markc/Documents/Data Analytics Masters/CA2/Data/Dairy Data/FAOSTAT_data_en_12-23-2022.csv\")\n",
    "print(df.shape)"
   ]
  },
  {
   "cell_type": "code",
   "execution_count": 3,
   "id": "05e19704",
   "metadata": {},
   "outputs": [
    {
     "name": "stdout",
     "output_type": "stream",
     "text": [
      "<bound method NDFrame.head of     Domain Code                        Domain  Area Code (M49)     Area  \\\n",
      "0           QCL  Crops and livestock products              372  Ireland   \n",
      "1           QCL  Crops and livestock products              372  Ireland   \n",
      "2           QCL  Crops and livestock products              372  Ireland   \n",
      "3           QCL  Crops and livestock products              372  Ireland   \n",
      "4           QCL  Crops and livestock products              372  Ireland   \n",
      "..          ...                           ...              ...      ...   \n",
      "511         QCL  Crops and livestock products              372  Ireland   \n",
      "512         QCL  Crops and livestock products              372  Ireland   \n",
      "513         QCL  Crops and livestock products              372  Ireland   \n",
      "514         QCL  Crops and livestock products              372  Ireland   \n",
      "515         QCL  Crops and livestock products              372  Ireland   \n",
      "\n",
      "     Element Code     Element  Item Code (CPC)                    Item  \\\n",
      "0            5510  Production         22241.01      Butter of cow milk   \n",
      "1            5510  Production         22241.01      Butter of cow milk   \n",
      "2            5510  Production         22241.01      Butter of cow milk   \n",
      "3            5510  Production         22241.01      Butter of cow milk   \n",
      "4            5510  Production         22241.01      Butter of cow milk   \n",
      "..            ...         ...              ...                     ...   \n",
      "511          5510  Production         22221.01  Whole milk, evaporated   \n",
      "512          5510  Production         22221.01  Whole milk, evaporated   \n",
      "513          5510  Production         22221.01  Whole milk, evaporated   \n",
      "514          5510  Production         22221.01  Whole milk, evaporated   \n",
      "515          5510  Production         22221.01  Whole milk, evaporated   \n",
      "\n",
      "     Year Code  Year    Unit    Value Flag Flag Description  \n",
      "0         1961  1961  tonnes  61300.0    A  Official figure  \n",
      "1         1962  1962  tonnes  62200.0    A  Official figure  \n",
      "2         1963  1963  tonnes  60346.0    A  Official figure  \n",
      "3         1964  1964  tonnes  64500.0    A  Official figure  \n",
      "4         1965  1965  tonnes  65845.0    A  Official figure  \n",
      "..         ...   ...     ...      ...  ...              ...  \n",
      "511       2014  2014  tonnes      0.0    I    Imputed value  \n",
      "512       2015  2015  tonnes      0.0    E  Estimated value  \n",
      "513       2016  2016  tonnes      0.0    E  Estimated value  \n",
      "514       2017  2017  tonnes      0.0    E  Estimated value  \n",
      "515       2018  2018  tonnes      0.0    E  Estimated value  \n",
      "\n",
      "[516 rows x 14 columns]>\n"
     ]
    }
   ],
   "source": [
    "print(df.head)"
   ]
  },
  {
   "cell_type": "code",
   "execution_count": 4,
   "id": "e092a0db",
   "metadata": {},
   "outputs": [
    {
     "name": "stdout",
     "output_type": "stream",
     "text": [
      "Index(['Domain Code', 'Domain', 'Area Code (M49)', 'Area', 'Element Code',\n",
      "       'Element', 'Item Code (CPC)', 'Item', 'Year Code', 'Year', 'Unit',\n",
      "       'Value', 'Flag', 'Flag Description'],\n",
      "      dtype='object')\n"
     ]
    }
   ],
   "source": [
    "print(df.columns)"
   ]
  },
  {
   "cell_type": "markdown",
   "id": "edf4c6f7",
   "metadata": {},
   "source": [
    "Right away we can inspect the columns within the dataset and attempt to identify which columns will be useful and which can be removed to optimise the processing of the dataset."
   ]
  },
  {
   "cell_type": "code",
   "execution_count": 5,
   "id": "cc4e6265",
   "metadata": {
    "scrolled": true
   },
   "outputs": [
    {
     "name": "stdout",
     "output_type": "stream",
     "text": [
      "['Butter of cow milk' 'Buttermilk, dry' 'Cheese from skimmed cow milk'\n",
      " 'Cheese from whole cow milk' 'Raw milk of buffalo' 'Raw milk of cattle'\n",
      " 'Raw milk of goats' 'Raw milk of sheep' 'Skim milk and whey powder'\n",
      " 'Skim milk of cows' 'Whole milk powder' 'Whole milk, condensed'\n",
      " 'Whole milk, evaporated']\n"
     ]
    }
   ],
   "source": [
    "print(df['Item'].unique())"
   ]
  },
  {
   "cell_type": "markdown",
   "id": "b907f852",
   "metadata": {},
   "source": [
    "Given that this dataset was produced from a larger FAO dataset containing a number of other milk sources (such as camel, sheep, goat), an inspection of the scale of production of products from sources other than cows is required to try and confirm that items not explicitly identified as being cow-milk products are in fact produced from cows milk. "
   ]
  },
  {
   "cell_type": "code",
   "execution_count": 7,
   "id": "cb9b29fa",
   "metadata": {
    "scrolled": false
   },
   "outputs": [
    {
     "data": {
      "text/html": [
       "<div>\n",
       "<style scoped>\n",
       "    .dataframe tbody tr th:only-of-type {\n",
       "        vertical-align: middle;\n",
       "    }\n",
       "\n",
       "    .dataframe tbody tr th {\n",
       "        vertical-align: top;\n",
       "    }\n",
       "\n",
       "    .dataframe thead th {\n",
       "        text-align: right;\n",
       "    }\n",
       "</style>\n",
       "<table border=\"1\" class=\"dataframe\">\n",
       "  <thead>\n",
       "    <tr style=\"text-align: right;\">\n",
       "      <th></th>\n",
       "      <th>Domain Code</th>\n",
       "      <th>Domain</th>\n",
       "      <th>Area Code (M49)</th>\n",
       "      <th>Area</th>\n",
       "      <th>Element Code</th>\n",
       "      <th>Element</th>\n",
       "      <th>Item Code (CPC)</th>\n",
       "      <th>Item</th>\n",
       "      <th>Year Code</th>\n",
       "      <th>Year</th>\n",
       "      <th>Unit</th>\n",
       "      <th>Value</th>\n",
       "      <th>Flag</th>\n",
       "      <th>Flag Description</th>\n",
       "    </tr>\n",
       "  </thead>\n",
       "  <tbody>\n",
       "    <tr>\n",
       "      <th>count</th>\n",
       "      <td>516</td>\n",
       "      <td>516</td>\n",
       "      <td>516.0</td>\n",
       "      <td>516</td>\n",
       "      <td>516.0</td>\n",
       "      <td>516</td>\n",
       "      <td>516.000000</td>\n",
       "      <td>516</td>\n",
       "      <td>516.000000</td>\n",
       "      <td>516.000000</td>\n",
       "      <td>516</td>\n",
       "      <td>5.160000e+02</td>\n",
       "      <td>516</td>\n",
       "      <td>516</td>\n",
       "    </tr>\n",
       "    <tr>\n",
       "      <th>unique</th>\n",
       "      <td>1</td>\n",
       "      <td>1</td>\n",
       "      <td>NaN</td>\n",
       "      <td>1</td>\n",
       "      <td>NaN</td>\n",
       "      <td>1</td>\n",
       "      <td>NaN</td>\n",
       "      <td>13</td>\n",
       "      <td>NaN</td>\n",
       "      <td>NaN</td>\n",
       "      <td>1</td>\n",
       "      <td>NaN</td>\n",
       "      <td>4</td>\n",
       "      <td>4</td>\n",
       "    </tr>\n",
       "    <tr>\n",
       "      <th>top</th>\n",
       "      <td>QCL</td>\n",
       "      <td>Crops and livestock products</td>\n",
       "      <td>NaN</td>\n",
       "      <td>Ireland</td>\n",
       "      <td>NaN</td>\n",
       "      <td>Production</td>\n",
       "      <td>NaN</td>\n",
       "      <td>Raw milk of cattle</td>\n",
       "      <td>NaN</td>\n",
       "      <td>NaN</td>\n",
       "      <td>tonnes</td>\n",
       "      <td>NaN</td>\n",
       "      <td>A</td>\n",
       "      <td>Official figure</td>\n",
       "    </tr>\n",
       "    <tr>\n",
       "      <th>freq</th>\n",
       "      <td>516</td>\n",
       "      <td>516</td>\n",
       "      <td>NaN</td>\n",
       "      <td>516</td>\n",
       "      <td>NaN</td>\n",
       "      <td>516</td>\n",
       "      <td>NaN</td>\n",
       "      <td>61</td>\n",
       "      <td>NaN</td>\n",
       "      <td>NaN</td>\n",
       "      <td>516</td>\n",
       "      <td>NaN</td>\n",
       "      <td>310</td>\n",
       "      <td>310</td>\n",
       "    </tr>\n",
       "    <tr>\n",
       "      <th>mean</th>\n",
       "      <td>NaN</td>\n",
       "      <td>NaN</td>\n",
       "      <td>372.0</td>\n",
       "      <td>NaN</td>\n",
       "      <td>5510.0</td>\n",
       "      <td>NaN</td>\n",
       "      <td>19384.911802</td>\n",
       "      <td>NaN</td>\n",
       "      <td>1992.631783</td>\n",
       "      <td>1992.631783</td>\n",
       "      <td>NaN</td>\n",
       "      <td>9.616721e+05</td>\n",
       "      <td>NaN</td>\n",
       "      <td>NaN</td>\n",
       "    </tr>\n",
       "    <tr>\n",
       "      <th>std</th>\n",
       "      <td>NaN</td>\n",
       "      <td>NaN</td>\n",
       "      <td>0.0</td>\n",
       "      <td>NaN</td>\n",
       "      <td>0.0</td>\n",
       "      <td>NaN</td>\n",
       "      <td>6974.823351</td>\n",
       "      <td>NaN</td>\n",
       "      <td>17.791786</td>\n",
       "      <td>17.791786</td>\n",
       "      <td>NaN</td>\n",
       "      <td>1.812186e+06</td>\n",
       "      <td>NaN</td>\n",
       "      <td>NaN</td>\n",
       "    </tr>\n",
       "    <tr>\n",
       "      <th>min</th>\n",
       "      <td>NaN</td>\n",
       "      <td>NaN</td>\n",
       "      <td>372.0</td>\n",
       "      <td>NaN</td>\n",
       "      <td>5510.0</td>\n",
       "      <td>NaN</td>\n",
       "      <td>2211.000000</td>\n",
       "      <td>NaN</td>\n",
       "      <td>1961.000000</td>\n",
       "      <td>1961.000000</td>\n",
       "      <td>NaN</td>\n",
       "      <td>0.000000e+00</td>\n",
       "      <td>NaN</td>\n",
       "      <td>NaN</td>\n",
       "    </tr>\n",
       "    <tr>\n",
       "      <th>25%</th>\n",
       "      <td>NaN</td>\n",
       "      <td>NaN</td>\n",
       "      <td>372.0</td>\n",
       "      <td>NaN</td>\n",
       "      <td>5510.0</td>\n",
       "      <td>NaN</td>\n",
       "      <td>22110.020000</td>\n",
       "      <td>NaN</td>\n",
       "      <td>1977.000000</td>\n",
       "      <td>1977.000000</td>\n",
       "      <td>NaN</td>\n",
       "      <td>3.687500e+03</td>\n",
       "      <td>NaN</td>\n",
       "      <td>NaN</td>\n",
       "    </tr>\n",
       "    <tr>\n",
       "      <th>50%</th>\n",
       "      <td>NaN</td>\n",
       "      <td>NaN</td>\n",
       "      <td>372.0</td>\n",
       "      <td>NaN</td>\n",
       "      <td>5510.0</td>\n",
       "      <td>NaN</td>\n",
       "      <td>22221.010000</td>\n",
       "      <td>NaN</td>\n",
       "      <td>1994.000000</td>\n",
       "      <td>1994.000000</td>\n",
       "      <td>NaN</td>\n",
       "      <td>6.595000e+04</td>\n",
       "      <td>NaN</td>\n",
       "      <td>NaN</td>\n",
       "    </tr>\n",
       "    <tr>\n",
       "      <th>75%</th>\n",
       "      <td>NaN</td>\n",
       "      <td>NaN</td>\n",
       "      <td>372.0</td>\n",
       "      <td>NaN</td>\n",
       "      <td>5510.0</td>\n",
       "      <td>NaN</td>\n",
       "      <td>22241.010000</td>\n",
       "      <td>NaN</td>\n",
       "      <td>2008.000000</td>\n",
       "      <td>2008.000000</td>\n",
       "      <td>NaN</td>\n",
       "      <td>2.112500e+05</td>\n",
       "      <td>NaN</td>\n",
       "      <td>NaN</td>\n",
       "    </tr>\n",
       "    <tr>\n",
       "      <th>max</th>\n",
       "      <td>NaN</td>\n",
       "      <td>NaN</td>\n",
       "      <td>372.0</td>\n",
       "      <td>NaN</td>\n",
       "      <td>5510.0</td>\n",
       "      <td>NaN</td>\n",
       "      <td>22251.020000</td>\n",
       "      <td>NaN</td>\n",
       "      <td>2021.000000</td>\n",
       "      <td>2021.000000</td>\n",
       "      <td>NaN</td>\n",
       "      <td>9.039990e+06</td>\n",
       "      <td>NaN</td>\n",
       "      <td>NaN</td>\n",
       "    </tr>\n",
       "  </tbody>\n",
       "</table>\n",
       "</div>"
      ],
      "text/plain": [
       "       Domain Code                        Domain  Area Code (M49)     Area  \\\n",
       "count          516                           516            516.0      516   \n",
       "unique           1                             1              NaN        1   \n",
       "top            QCL  Crops and livestock products              NaN  Ireland   \n",
       "freq           516                           516              NaN      516   \n",
       "mean           NaN                           NaN            372.0      NaN   \n",
       "std            NaN                           NaN              0.0      NaN   \n",
       "min            NaN                           NaN            372.0      NaN   \n",
       "25%            NaN                           NaN            372.0      NaN   \n",
       "50%            NaN                           NaN            372.0      NaN   \n",
       "75%            NaN                           NaN            372.0      NaN   \n",
       "max            NaN                           NaN            372.0      NaN   \n",
       "\n",
       "        Element Code     Element  Item Code (CPC)                Item  \\\n",
       "count          516.0         516       516.000000                 516   \n",
       "unique           NaN           1              NaN                  13   \n",
       "top              NaN  Production              NaN  Raw milk of cattle   \n",
       "freq             NaN         516              NaN                  61   \n",
       "mean          5510.0         NaN     19384.911802                 NaN   \n",
       "std              0.0         NaN      6974.823351                 NaN   \n",
       "min           5510.0         NaN      2211.000000                 NaN   \n",
       "25%           5510.0         NaN     22110.020000                 NaN   \n",
       "50%           5510.0         NaN     22221.010000                 NaN   \n",
       "75%           5510.0         NaN     22241.010000                 NaN   \n",
       "max           5510.0         NaN     22251.020000                 NaN   \n",
       "\n",
       "          Year Code         Year    Unit         Value Flag Flag Description  \n",
       "count    516.000000   516.000000     516  5.160000e+02  516              516  \n",
       "unique          NaN          NaN       1           NaN    4                4  \n",
       "top             NaN          NaN  tonnes           NaN    A  Official figure  \n",
       "freq            NaN          NaN     516           NaN  310              310  \n",
       "mean    1992.631783  1992.631783     NaN  9.616721e+05  NaN              NaN  \n",
       "std       17.791786    17.791786     NaN  1.812186e+06  NaN              NaN  \n",
       "min     1961.000000  1961.000000     NaN  0.000000e+00  NaN              NaN  \n",
       "25%     1977.000000  1977.000000     NaN  3.687500e+03  NaN              NaN  \n",
       "50%     1994.000000  1994.000000     NaN  6.595000e+04  NaN              NaN  \n",
       "75%     2008.000000  2008.000000     NaN  2.112500e+05  NaN              NaN  \n",
       "max     2021.000000  2021.000000     NaN  9.039990e+06  NaN              NaN  "
      ]
     },
     "metadata": {},
     "output_type": "display_data"
    }
   ],
   "source": [
    "display(df.describe(include='all'))"
   ]
  },
  {
   "cell_type": "markdown",
   "id": "3b94c300",
   "metadata": {},
   "source": [
    "A number of columns are dropped from the dataset to clean it up, given that they provide metadata which in this case does not add value to the analysis."
   ]
  },
  {
   "cell_type": "code",
   "execution_count": 10,
   "id": "7001b2ad",
   "metadata": {},
   "outputs": [
    {
     "data": {
      "text/html": [
       "<div>\n",
       "<style scoped>\n",
       "    .dataframe tbody tr th:only-of-type {\n",
       "        vertical-align: middle;\n",
       "    }\n",
       "\n",
       "    .dataframe tbody tr th {\n",
       "        vertical-align: top;\n",
       "    }\n",
       "\n",
       "    .dataframe thead th {\n",
       "        text-align: right;\n",
       "    }\n",
       "</style>\n",
       "<table border=\"1\" class=\"dataframe\">\n",
       "  <thead>\n",
       "    <tr style=\"text-align: right;\">\n",
       "      <th></th>\n",
       "      <th>Item</th>\n",
       "      <th>Year</th>\n",
       "      <th>Value</th>\n",
       "      <th>Flag</th>\n",
       "      <th>Flag Description</th>\n",
       "    </tr>\n",
       "  </thead>\n",
       "  <tbody>\n",
       "    <tr>\n",
       "      <th>0</th>\n",
       "      <td>Butter of cow milk</td>\n",
       "      <td>1961</td>\n",
       "      <td>61300.0</td>\n",
       "      <td>A</td>\n",
       "      <td>Official figure</td>\n",
       "    </tr>\n",
       "    <tr>\n",
       "      <th>1</th>\n",
       "      <td>Butter of cow milk</td>\n",
       "      <td>1962</td>\n",
       "      <td>62200.0</td>\n",
       "      <td>A</td>\n",
       "      <td>Official figure</td>\n",
       "    </tr>\n",
       "    <tr>\n",
       "      <th>2</th>\n",
       "      <td>Butter of cow milk</td>\n",
       "      <td>1963</td>\n",
       "      <td>60346.0</td>\n",
       "      <td>A</td>\n",
       "      <td>Official figure</td>\n",
       "    </tr>\n",
       "    <tr>\n",
       "      <th>3</th>\n",
       "      <td>Butter of cow milk</td>\n",
       "      <td>1964</td>\n",
       "      <td>64500.0</td>\n",
       "      <td>A</td>\n",
       "      <td>Official figure</td>\n",
       "    </tr>\n",
       "    <tr>\n",
       "      <th>4</th>\n",
       "      <td>Butter of cow milk</td>\n",
       "      <td>1965</td>\n",
       "      <td>65845.0</td>\n",
       "      <td>A</td>\n",
       "      <td>Official figure</td>\n",
       "    </tr>\n",
       "    <tr>\n",
       "      <th>...</th>\n",
       "      <td>...</td>\n",
       "      <td>...</td>\n",
       "      <td>...</td>\n",
       "      <td>...</td>\n",
       "      <td>...</td>\n",
       "    </tr>\n",
       "    <tr>\n",
       "      <th>511</th>\n",
       "      <td>Whole milk, evaporated</td>\n",
       "      <td>2014</td>\n",
       "      <td>0.0</td>\n",
       "      <td>I</td>\n",
       "      <td>Imputed value</td>\n",
       "    </tr>\n",
       "    <tr>\n",
       "      <th>512</th>\n",
       "      <td>Whole milk, evaporated</td>\n",
       "      <td>2015</td>\n",
       "      <td>0.0</td>\n",
       "      <td>E</td>\n",
       "      <td>Estimated value</td>\n",
       "    </tr>\n",
       "    <tr>\n",
       "      <th>513</th>\n",
       "      <td>Whole milk, evaporated</td>\n",
       "      <td>2016</td>\n",
       "      <td>0.0</td>\n",
       "      <td>E</td>\n",
       "      <td>Estimated value</td>\n",
       "    </tr>\n",
       "    <tr>\n",
       "      <th>514</th>\n",
       "      <td>Whole milk, evaporated</td>\n",
       "      <td>2017</td>\n",
       "      <td>0.0</td>\n",
       "      <td>E</td>\n",
       "      <td>Estimated value</td>\n",
       "    </tr>\n",
       "    <tr>\n",
       "      <th>515</th>\n",
       "      <td>Whole milk, evaporated</td>\n",
       "      <td>2018</td>\n",
       "      <td>0.0</td>\n",
       "      <td>E</td>\n",
       "      <td>Estimated value</td>\n",
       "    </tr>\n",
       "  </tbody>\n",
       "</table>\n",
       "<p>516 rows × 5 columns</p>\n",
       "</div>"
      ],
      "text/plain": [
       "                       Item  Year    Value Flag Flag Description\n",
       "0        Butter of cow milk  1961  61300.0    A  Official figure\n",
       "1        Butter of cow milk  1962  62200.0    A  Official figure\n",
       "2        Butter of cow milk  1963  60346.0    A  Official figure\n",
       "3        Butter of cow milk  1964  64500.0    A  Official figure\n",
       "4        Butter of cow milk  1965  65845.0    A  Official figure\n",
       "..                      ...   ...      ...  ...              ...\n",
       "511  Whole milk, evaporated  2014      0.0    I    Imputed value\n",
       "512  Whole milk, evaporated  2015      0.0    E  Estimated value\n",
       "513  Whole milk, evaporated  2016      0.0    E  Estimated value\n",
       "514  Whole milk, evaporated  2017      0.0    E  Estimated value\n",
       "515  Whole milk, evaporated  2018      0.0    E  Estimated value\n",
       "\n",
       "[516 rows x 5 columns]"
      ]
     },
     "execution_count": 10,
     "metadata": {},
     "output_type": "execute_result"
    }
   ],
   "source": [
    "df.drop(['Domain Code', 'Domain','Area Code (M49)','Area','Element Code','Element','Item Code (CPC)','Year Code','Unit'],axis=1)"
   ]
  },
  {
   "cell_type": "markdown",
   "id": "1b5db049",
   "metadata": {},
   "source": [
    "Hanging on to the Flag and Flag Description columns for now. In time, the Flag column will be removed or maybe the Flag Description column if I can incorporate a legend into a visualisation that captures what the Flag values represent."
   ]
  },
  {
   "cell_type": "markdown",
   "id": "00163c91",
   "metadata": {},
   "source": []
  },
  {
   "cell_type": "code",
   "execution_count": null,
   "id": "e98052d1",
   "metadata": {},
   "outputs": [],
   "source": []
  }
 ],
 "metadata": {
  "kernelspec": {
   "display_name": "Python 3 (ipykernel)",
   "language": "python",
   "name": "python3"
  },
  "language_info": {
   "codemirror_mode": {
    "name": "ipython",
    "version": 3
   },
   "file_extension": ".py",
   "mimetype": "text/x-python",
   "name": "python",
   "nbconvert_exporter": "python",
   "pygments_lexer": "ipython3",
   "version": "3.9.13"
  }
 },
 "nbformat": 4,
 "nbformat_minor": 5
}
