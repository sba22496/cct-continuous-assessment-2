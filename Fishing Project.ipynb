{
 "cells": [
  {
   "cell_type": "code",
   "execution_count": 4,
   "id": "e977d73f",
   "metadata": {},
   "outputs": [],
   "source": [
    "import pandas as pd"
   ]
  },
  {
   "cell_type": "code",
   "execution_count": 5,
   "id": "e40a82ae",
   "metadata": {
    "scrolled": true
   },
   "outputs": [
    {
     "data": {
      "text/plain": [
       "(64990, 31)"
      ]
     },
     "execution_count": 5,
     "metadata": {},
     "output_type": "execute_result"
    }
   ],
   "source": [
    "df=pd.read_csv('fish_ld_ie.tsv',sep='\\t')\n",
    "df.shape"
   ]
  },
  {
   "cell_type": "code",
   "execution_count": 6,
   "id": "64ca420f",
   "metadata": {},
   "outputs": [],
   "source": [
    "df.to_csv('irishfish.csv')"
   ]
  },
  {
   "cell_type": "code",
   "execution_count": 7,
   "id": "05e19704",
   "metadata": {},
   "outputs": [
    {
     "name": "stdout",
     "output_type": "stream",
     "text": [
      "<bound method NDFrame.head of       species,pres,dest_use,unit,natvessr,geo\\time 2021  2020  2019  2018   \\\n",
      "0                            ABX,FRE,HCN,TPW,EU,IE    :     :     :     :    \n",
      "1                         ABX,FRE,HCN,TPW,TOTAL,IE    :     :     :     :    \n",
      "2                          ABX,FRE,TOTAL,TPW,EU,IE    :     :     :     :    \n",
      "3                       ABX,FRE,TOTAL,TPW,TOTAL,IE    :     :     :     :    \n",
      "4                        ABX,FRE_WHL,HCN,TPW,EU,IE    :     :     :     :    \n",
      "...                                            ...   ...   ...   ...   ...   \n",
      "64985                    ZEX,TOTAL,UNK,EUR_T,IE,IE    :    : c    :     :    \n",
      "64986                 ZEX,TOTAL,UNK,EUR_T,TOTAL,IE    :    : c    :     :    \n",
      "64987                      ZEX,TOTAL,UNK,TPW,EU,IE    :    : c    :     :    \n",
      "64988                      ZEX,TOTAL,UNK,TPW,IE,IE    :    : c    :     :    \n",
      "64989                   ZEX,TOTAL,UNK,TPW,TOTAL,IE    :    : c    :     :    \n",
      "\n",
      "      2017  2016  2015  2014  2013   ... 2001  2000  1999  1998  1997  1996   \\\n",
      "0        :     :     :     :     :   ...    :     :     :     :     :     :    \n",
      "1        :     :     :     :     :   ...    :     :     :     :     :     :    \n",
      "2        :     :     :     :     :   ...    :     :     :     :     :     :    \n",
      "3        :     :     :     :     :   ...    :     :     :     :     :     :    \n",
      "4        :     :     :     :     :   ...    :     :     :     :     :     :    \n",
      "...     ...   ...   ...   ...   ...  ...   ...   ...   ...   ...   ...   ...   \n",
      "64985    :     :     :     :     :   ...    :     :     :     :     :     :    \n",
      "64986    :     :     :     :     :   ...    :     :     :     :     :     :    \n",
      "64987    :     :     :     :     :   ...    :     :     :     :     :     :    \n",
      "64988    :     :     :     :     :   ...    :     :     :     :     :     :    \n",
      "64989    :     :     :     :     :   ...    :     :     :     :     :     :    \n",
      "\n",
      "      1995  1994  1993  1992   \n",
      "0        :     :     :     :   \n",
      "1        :     :     :     :   \n",
      "2        :     :     :     :   \n",
      "3        :     :     :     :   \n",
      "4        :     :     :     :   \n",
      "...     ...   ...   ...   ...  \n",
      "64985    :     :     :     :   \n",
      "64986    :     :     :     :   \n",
      "64987    :     :     :     :   \n",
      "64988    :     :     :     :   \n",
      "64989    :     :     :     :   \n",
      "\n",
      "[64990 rows x 31 columns]>\n"
     ]
    }
   ],
   "source": [
    "print(df.head)"
   ]
  },
  {
   "cell_type": "code",
   "execution_count": null,
   "id": "e092a0db",
   "metadata": {},
   "outputs": [],
   "source": []
  }
 ],
 "metadata": {
  "kernelspec": {
   "display_name": "Python 3 (ipykernel)",
   "language": "python",
   "name": "python3"
  },
  "language_info": {
   "codemirror_mode": {
    "name": "ipython",
    "version": 3
   },
   "file_extension": ".py",
   "mimetype": "text/x-python",
   "name": "python",
   "nbconvert_exporter": "python",
   "pygments_lexer": "ipython3",
   "version": "3.9.13"
  }
 },
 "nbformat": 4,
 "nbformat_minor": 5
}
